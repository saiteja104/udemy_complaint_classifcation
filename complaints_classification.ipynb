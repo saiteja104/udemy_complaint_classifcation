{
 "cells": [
  {
   "cell_type": "code",
   "execution_count": 16,
   "metadata": {},
   "outputs": [],
   "source": [
    "import pandas as pd\n",
    "import numpy as np\n",
    "import string\n",
    "import nltk\n",
    "import torch\n",
    "from nltk.corpus import stopwords\n",
    "from sklearn.feature_extraction.text import TfidfVectorizer\n",
    "from sklearn.decomposition import NMF\n",
    "from sklearn.feature_extraction.text import CountVectorizer\n",
    "from sklearn.decomposition import LatentDirichletAllocation\n",
    "from torch.utils.data import DataLoader, Dataset\n",
    "from sklearn.preprocessing import LabelEncoder\n",
    "from sklearn.model_selection import train_test_split\n",
    "from sklearn.metrics import accuracy_score, classification_report\n",
    "from transformers import BertTokenizer, BertForSequenceClassification, AdamW\n",
    "from torch.nn import functional as F\n",
    "from tqdm import tqdm"
   ]
  },
  {
   "cell_type": "code",
   "execution_count": 2,
   "metadata": {},
   "outputs": [
    {
     "name": "stdout",
     "output_type": "stream",
     "text": [
      "True\n",
      "12.1\n"
     ]
    }
   ],
   "source": [
    "print(torch.cuda.is_available()) \n",
    "print(torch.version.cuda)    "
   ]
  },
  {
   "cell_type": "code",
   "execution_count": 3,
   "metadata": {},
   "outputs": [],
   "source": [
    "data = pd.read_csv('complaintData.csv')"
   ]
  },
  {
   "cell_type": "code",
   "execution_count": 4,
   "metadata": {},
   "outputs": [
    {
     "name": "stderr",
     "output_type": "stream",
     "text": [
      "[nltk_data] Downloading package stopwords to\n",
      "[nltk_data]     C:\\Users\\Sai\\AppData\\Roaming\\nltk_data...\n",
      "[nltk_data]   Package stopwords is already up-to-date!\n"
     ]
    }
   ],
   "source": [
    "nltk.download('stopwords')\n",
    "stop_words = set(stopwords.words('english'))\n",
    "\n",
    "def preprocess_text(text):\n",
    "    text = text.lower()  #Convert to lowercase\n",
    "    text = ''.join([char for char in text if char not in string.punctuation])  #Remove punctuation\n",
    "    text = ' '.join([word for word in text.split() if word not in stop_words]) #Remove stopwords\n",
    "    return text\n",
    "\n",
    "data['cleaned_reviews'] = data['complaints'].apply(preprocess_text)\n"
   ]
  },
  {
   "cell_type": "code",
   "execution_count": 5,
   "metadata": {},
   "outputs": [],
   "source": [
    "#Initialize the TF-IDF Vectorizer\n",
    "#tfidf_vectorizer = TfidfVectorizer(max_features=1000, stop_words='english')\n",
    "#tfidf_matrix = tfidf_vectorizer.fit_transform(data['cleaned_reviews'])"
   ]
  },
  {
   "cell_type": "code",
   "execution_count": 9,
   "metadata": {},
   "outputs": [],
   "source": [
    "# #Set the number of topics\n",
    "# num_topics = 4\n",
    "\n",
    "# #Initialize and fit the NMF model\n",
    "# nmf_model = NMF(n_components=num_topics, random_state=42)\n",
    "# nmf_model.fit(tfidf_matrix)\n",
    "\n",
    "# #Get the topic-word matrix\n",
    "# topic_words = nmf_model.components_"
   ]
  },
  {
   "cell_type": "code",
   "execution_count": 10,
   "metadata": {},
   "outputs": [
    {
     "name": "stdout",
     "output_type": "stream",
     "text": [
      "Topic 0:  ['debited', 'details', 'purchase', 'provide', 'refund', 'transaction', 'udemy', 'payment', 'account', 'visible']\n",
      "Topic 1:  ['debited', 'confirmation', 'email', 'udemy', 'learning', 'added', 'got', 'deducted', 'course', 'money']\n",
      "Topic 2:  ['complete', 'showed', 'purchase', 'support', 'course', 'udemy', 'website', 'present', 'portal', 'educational']\n",
      "Topic 3:  ['huge', 'scam', 'improve', 'platform', 'feels', 'course', 'available', 'bought', 'isnt', 'ive']\n"
     ]
    }
   ],
   "source": [
    "# #Get the words corresponding to the topic-word matrix\n",
    "# feature_names = tfidf_vectorizer.get_feature_names_out()\n",
    "\n",
    "# #Display the top words for each topic\n",
    "# for topic_idx, topic in enumerate(topic_words):\n",
    "#     print(f\"Topic {topic_idx}: \", [feature_names[i] for i in topic.argsort()[-10:]]) #argsort() returns indices in ascending order\n"
   ]
  },
  {
   "cell_type": "code",
   "execution_count": 19,
   "metadata": {},
   "outputs": [],
   "source": [
    "# #nmf_model is fitted NMF model and `tfidf_matrix` is the TF-IDF representation of reviews\n",
    "# topic_distribution = nmf_model.transform(tfidf_matrix)\n",
    "\n",
    "# #Get the index of the topic with the highest weight for each review\n",
    "# dominant_topic = np.argmax(topic_distribution, axis=1)\n",
    "# #Define the mapping from topic index to category\n",
    "# topic_to_category = {\n",
    "#     0: 'Payment-related',\n",
    "#     1: 'Service-related',\n",
    "#     2: 'Product-related',\n",
    "#     3: 'Technical issues'\n",
    "# }\n",
    "\n",
    "# #Map the dominant topic index to the corresponding category\n",
    "# predicted_category = [topic_to_category[topic] for topic in dominant_topic]\n",
    "# data['predicted_category'] = predicted_category\n"
   ]
  },
  {
   "cell_type": "code",
   "execution_count": 5,
   "metadata": {},
   "outputs": [
    {
     "name": "stdout",
     "output_type": "stream",
     "text": [
      "Topic 0:  ['learning', 'courses', 'added', 'transaction', 'account', 'paid', 'udemy', 'phonepe', 'payment', 'course']\n",
      "Topic 1:  ['id', 'learning', 'account', 'email', 'showing', 'got', 'debited', 'money', 'course', 'udemy']\n",
      "Topic 2:  ['pay', 'transaction', 'purchase', 'purchased', 'visible', 'refund', 'payment', 'account', 'course', 'udemy']\n",
      "Topic 3:  ['failed', 'refund', 'got', 'rs', 'transaction', 'payment', 'deducted', 'money', 'udemy', 'course']\n"
     ]
    }
   ],
   "source": [
    "reviews = data['cleaned_reviews'].astype(str).tolist()  #Convert to list of strings\n",
    "\n",
    "#Create a Document-Term Matrix using CountVectorizer\n",
    "vectorizer = CountVectorizer(stop_words='english')\n",
    "dtm = vectorizer.fit_transform(reviews)\n",
    "\n",
    "n_topics = 4  \n",
    "lda = LatentDirichletAllocation(n_components=n_topics, random_state=42)\n",
    "lda.fit(dtm)\n",
    "\n",
    "#Display the topics and their top words\n",
    "feature_names = vectorizer.get_feature_names_out()\n",
    "\n",
    "for topic_idx, topic in enumerate(lda.components_):\n",
    "    print(f\"Topic {topic_idx}: \", [feature_names[i] for i in topic.argsort()[-10:]])"
   ]
  },
  {
   "cell_type": "code",
   "execution_count": 6,
   "metadata": {},
   "outputs": [
    {
     "data": {
      "text/html": [
       "<div>\n",
       "<style scoped>\n",
       "    .dataframe tbody tr th:only-of-type {\n",
       "        vertical-align: middle;\n",
       "    }\n",
       "\n",
       "    .dataframe tbody tr th {\n",
       "        vertical-align: top;\n",
       "    }\n",
       "\n",
       "    .dataframe thead th {\n",
       "        text-align: right;\n",
       "    }\n",
       "</style>\n",
       "<table border=\"1\" class=\"dataframe\">\n",
       "  <thead>\n",
       "    <tr style=\"text-align: right;\">\n",
       "      <th></th>\n",
       "      <th>cleaned_reviews</th>\n",
       "      <th>predicted_category</th>\n",
       "    </tr>\n",
       "  </thead>\n",
       "  <tbody>\n",
       "    <tr>\n",
       "      <th>0</th>\n",
       "      <td>tried purchasing course udemy paying amount pa...</td>\n",
       "      <td>Product-related</td>\n",
       "    </tr>\n",
       "    <tr>\n",
       "      <th>1</th>\n",
       "      <td>recently purchased course udemy value 449 rupe...</td>\n",
       "      <td>Payment-related</td>\n",
       "    </tr>\n",
       "    <tr>\n",
       "      <th>2</th>\n",
       "      <td>money got debited side udemy page showed trans...</td>\n",
       "      <td>Service-related</td>\n",
       "    </tr>\n",
       "    <tr>\n",
       "      <th>3</th>\n",
       "      <td>purchased course udemy complete web design449r...</td>\n",
       "      <td>Payment-related</td>\n",
       "    </tr>\n",
       "    <tr>\n",
       "      <th>4</th>\n",
       "      <td>purchased following course udemy httpswww udem...</td>\n",
       "      <td>Payment-related</td>\n",
       "    </tr>\n",
       "    <tr>\n",
       "      <th>...</th>\n",
       "      <td>...</td>\n",
       "      <td>...</td>\n",
       "    </tr>\n",
       "    <tr>\n",
       "      <th>295</th>\n",
       "      <td>made payment via phonepe udemy amount rs 455 d...</td>\n",
       "      <td>Payment-related</td>\n",
       "    </tr>\n",
       "    <tr>\n",
       "      <th>296</th>\n",
       "      <td>payment via google pay udemy amount rs 490 deb...</td>\n",
       "      <td>Payment-related</td>\n",
       "    </tr>\n",
       "    <tr>\n",
       "      <th>297</th>\n",
       "      <td>hii tried buy course udemy shows transaction f...</td>\n",
       "      <td>Technical issues</td>\n",
       "    </tr>\n",
       "    <tr>\n",
       "      <th>298</th>\n",
       "      <td>purchased udemy course linux administration co...</td>\n",
       "      <td>Payment-related</td>\n",
       "    </tr>\n",
       "    <tr>\n",
       "      <th>299</th>\n",
       "      <td>bought course ui ux design worth rs 490 money ...</td>\n",
       "      <td>Technical issues</td>\n",
       "    </tr>\n",
       "  </tbody>\n",
       "</table>\n",
       "<p>300 rows × 2 columns</p>\n",
       "</div>"
      ],
      "text/plain": [
       "                                       cleaned_reviews predicted_category\n",
       "0    tried purchasing course udemy paying amount pa...    Product-related\n",
       "1    recently purchased course udemy value 449 rupe...    Payment-related\n",
       "2    money got debited side udemy page showed trans...    Service-related\n",
       "3    purchased course udemy complete web design449r...    Payment-related\n",
       "4    purchased following course udemy httpswww udem...    Payment-related\n",
       "..                                                 ...                ...\n",
       "295  made payment via phonepe udemy amount rs 455 d...    Payment-related\n",
       "296  payment via google pay udemy amount rs 490 deb...    Payment-related\n",
       "297  hii tried buy course udemy shows transaction f...   Technical issues\n",
       "298  purchased udemy course linux administration co...    Payment-related\n",
       "299  bought course ui ux design worth rs 490 money ...   Technical issues\n",
       "\n",
       "[300 rows x 2 columns]"
      ]
     },
     "execution_count": 6,
     "metadata": {},
     "output_type": "execute_result"
    }
   ],
   "source": [
    "#Get the dominant topic for each document\n",
    "doc_topic_dist = lda.transform(dtm)  #Get the topic distribution for each document\n",
    "dominant_topic = doc_topic_dist.argmax(axis=1)  #Get the index of the dominant topic\n",
    "\n",
    "#Define topic to category mapping\n",
    "topic_to_category = {\n",
    "    0: 'Product-related',\n",
    "    1: 'Service-related',\n",
    "    2: 'Payment-related',\n",
    "    3: 'Technical issues'\n",
    "}\n",
    "\n",
    "# Map the dominant topic index to the corresponding category\n",
    "predicted_category = [topic_to_category[topic] for topic in dominant_topic]\n",
    "data['predicted_category'] = predicted_category\n",
    "\n",
    "# Display the DataFrame with predicted categories\n",
    "data[['cleaned_reviews', 'predicted_category']]"
   ]
  },
  {
   "cell_type": "code",
   "execution_count": 7,
   "metadata": {},
   "outputs": [
    {
     "data": {
      "text/plain": [
       "0       Product-related\n",
       "1       Payment-related\n",
       "2       Service-related\n",
       "3       Payment-related\n",
       "4       Payment-related\n",
       "             ...       \n",
       "295     Payment-related\n",
       "296     Payment-related\n",
       "297    Technical issues\n",
       "298     Payment-related\n",
       "299    Technical issues\n",
       "Name: predicted_category, Length: 300, dtype: object"
      ]
     },
     "execution_count": 7,
     "metadata": {},
     "output_type": "execute_result"
    }
   ],
   "source": [
    "data['predicted_category']"
   ]
  },
  {
   "cell_type": "code",
   "execution_count": 8,
   "metadata": {},
   "outputs": [
    {
     "data": {
      "text/html": [
       "<div>\n",
       "<style scoped>\n",
       "    .dataframe tbody tr th:only-of-type {\n",
       "        vertical-align: middle;\n",
       "    }\n",
       "\n",
       "    .dataframe tbody tr th {\n",
       "        vertical-align: top;\n",
       "    }\n",
       "\n",
       "    .dataframe thead th {\n",
       "        text-align: right;\n",
       "    }\n",
       "</style>\n",
       "<table border=\"1\" class=\"dataframe\">\n",
       "  <thead>\n",
       "    <tr style=\"text-align: right;\">\n",
       "      <th></th>\n",
       "      <th>titles</th>\n",
       "      <th>complaints</th>\n",
       "      <th>cleaned_reviews</th>\n",
       "      <th>predicted_category</th>\n",
       "    </tr>\n",
       "  </thead>\n",
       "  <tbody>\n",
       "    <tr>\n",
       "      <th>0</th>\n",
       "      <td>Udemy — Amount deducted via UPI but course not...</td>\n",
       "      <td>I tried purchasing a course on Udemy by payin...</td>\n",
       "      <td>tried purchasing course udemy paying amount pa...</td>\n",
       "      <td>Product-related</td>\n",
       "    </tr>\n",
       "    <tr>\n",
       "      <th>1</th>\n",
       "      <td>Udemy — Did not recieve refund. (complaint)</td>\n",
       "      <td>I recently purchased a course on Udemy of val...</td>\n",
       "      <td>recently purchased course udemy value 449 rupe...</td>\n",
       "      <td>Payment-related</td>\n",
       "    </tr>\n",
       "    <tr>\n",
       "      <th>2</th>\n",
       "      <td>Udemy — Transaction Failed but money got debit...</td>\n",
       "      <td>Money got debited from my side but on udemy p...</td>\n",
       "      <td>money got debited side udemy page showed trans...</td>\n",
       "      <td>Service-related</td>\n",
       "    </tr>\n",
       "    <tr>\n",
       "      <th>3</th>\n",
       "      <td>Udemy — Refund for a course (complaint)</td>\n",
       "      <td>I have purchased a course on udemy on complet...</td>\n",
       "      <td>purchased course udemy complete web design449r...</td>\n",
       "      <td>Payment-related</td>\n",
       "    </tr>\n",
       "    <tr>\n",
       "      <th>4</th>\n",
       "      <td>Udemy — Payment successful but course not purc...</td>\n",
       "      <td>I purchased the following course on Udemy: ht...</td>\n",
       "      <td>purchased following course udemy httpswww udem...</td>\n",
       "      <td>Payment-related</td>\n",
       "    </tr>\n",
       "  </tbody>\n",
       "</table>\n",
       "</div>"
      ],
      "text/plain": [
       "                                              titles  \\\n",
       "0  Udemy — Amount deducted via UPI but course not...   \n",
       "1        Udemy — Did not recieve refund. (complaint)   \n",
       "2  Udemy — Transaction Failed but money got debit...   \n",
       "3            Udemy — Refund for a course (complaint)   \n",
       "4  Udemy — Payment successful but course not purc...   \n",
       "\n",
       "                                          complaints  \\\n",
       "0   I tried purchasing a course on Udemy by payin...   \n",
       "1   I recently purchased a course on Udemy of val...   \n",
       "2   Money got debited from my side but on udemy p...   \n",
       "3   I have purchased a course on udemy on complet...   \n",
       "4   I purchased the following course on Udemy: ht...   \n",
       "\n",
       "                                     cleaned_reviews predicted_category  \n",
       "0  tried purchasing course udemy paying amount pa...    Product-related  \n",
       "1  recently purchased course udemy value 449 rupe...    Payment-related  \n",
       "2  money got debited side udemy page showed trans...    Service-related  \n",
       "3  purchased course udemy complete web design449r...    Payment-related  \n",
       "4  purchased following course udemy httpswww udem...    Payment-related  "
      ]
     },
     "execution_count": 8,
     "metadata": {},
     "output_type": "execute_result"
    }
   ],
   "source": [
    "data.head()"
   ]
  },
  {
   "cell_type": "code",
   "execution_count": 18,
   "metadata": {},
   "outputs": [
    {
     "name": "stderr",
     "output_type": "stream",
     "text": [
      "Some weights of BertForSequenceClassification were not initialized from the model checkpoint at bert-base-uncased and are newly initialized: ['classifier.bias', 'classifier.weight']\n",
      "You should probably TRAIN this model on a down-stream task to be able to use it for predictions and inference.\n",
      "e:\\Udemy\\mypro\\Lib\\site-packages\\transformers\\optimization.py:591: FutureWarning: This implementation of AdamW is deprecated and will be removed in a future version. Use the PyTorch implementation torch.optim.AdamW instead, or set `no_deprecation_warning=True` to disable this warning\n",
      "  warnings.warn(\n"
     ]
    }
   ],
   "source": [
    "# Step 1: Encode the labels\n",
    "label_encoder = LabelEncoder()\n",
    "data['encoded_category'] = label_encoder.fit_transform(data['predicted_category'])\n",
    "\n",
    "# Step 2: Tokenization using BERT tokenizer\n",
    "tokenizer = BertTokenizer.from_pretrained('bert-base-uncased')\n",
    "\n",
    "# 3. Train-test split\n",
    "train_texts, test_texts, train_labels, test_labels = train_test_split(\n",
    "    data['cleaned_reviews'].tolist(), data['encoded_category'].tolist(), test_size=0.2, random_state=42\n",
    ")\n",
    "\n",
    "# 4. Tokenization using BERT tokenizer\n",
    "tokenizer = BertTokenizer.from_pretrained('bert-base-uncased')\n",
    "\n",
    "class ReviewDataset(Dataset):\n",
    "    def __init__(self, texts, labels):\n",
    "        self.texts = texts\n",
    "        self.labels = labels\n",
    "\n",
    "    def __len__(self):\n",
    "        return len(self.texts)\n",
    "\n",
    "    def __getitem__(self, idx):\n",
    "        text = self.texts[idx]\n",
    "        label = self.labels[idx]\n",
    "        encoding = tokenizer.encode_plus(\n",
    "            text,\n",
    "            add_special_tokens=True,\n",
    "            max_length=128,\n",
    "            padding='max_length',\n",
    "            truncation=True,\n",
    "            return_attention_mask=True,\n",
    "            return_tensors='pt'\n",
    "        )\n",
    "        return {\n",
    "            'input_ids': encoding['input_ids'].flatten(),\n",
    "            'attention_mask': encoding['attention_mask'].flatten(),\n",
    "            'label': torch.tensor(label, dtype=torch.long)\n",
    "        }\n",
    "\n",
    "# Create dataset objects\n",
    "train_dataset = ReviewDataset(train_texts, train_labels)\n",
    "test_dataset = ReviewDataset(test_texts, test_labels)\n",
    "\n",
    "# 5. Reduce batch size\n",
    "batch_size = 8  # Reducing to 8 for smaller memory consumption\n",
    "\n",
    "train_loader = DataLoader(train_dataset, batch_size=batch_size, shuffle=True)\n",
    "test_loader = DataLoader(test_dataset, batch_size=batch_size, shuffle=False)\n",
    "\n",
    "# 6. Model and optimizer setup\n",
    "device = torch.device(\"cpu\")  # Use CPU explicitly\n",
    "model = BertForSequenceClassification.from_pretrained('bert-base-uncased', num_labels=len(data['encoded_category'].unique()))\n",
    "model = model.to(device)  # Ensure the model is on CPU\n",
    "\n",
    "optimizer = AdamW(model.parameters(), lr=2e-5)\n"
   ]
  },
  {
   "cell_type": "code",
   "execution_count": 19,
   "metadata": {},
   "outputs": [
    {
     "name": "stderr",
     "output_type": "stream",
     "text": [
      "Training Epoch 1/3: 100%|██████████| 30/30 [04:23<00:00,  8.77s/it]\n"
     ]
    },
    {
     "name": "stdout",
     "output_type": "stream",
     "text": [
      "Epoch 1 | Training Loss: 1.1920\n"
     ]
    },
    {
     "name": "stderr",
     "output_type": "stream",
     "text": [
      "Training Epoch 2/3: 100%|██████████| 30/30 [04:33<00:00,  9.12s/it]\n"
     ]
    },
    {
     "name": "stdout",
     "output_type": "stream",
     "text": [
      "Epoch 2 | Training Loss: 0.6702\n"
     ]
    },
    {
     "name": "stderr",
     "output_type": "stream",
     "text": [
      "Training Epoch 3/3: 100%|██████████| 30/30 [03:49<00:00,  7.64s/it]\n"
     ]
    },
    {
     "name": "stdout",
     "output_type": "stream",
     "text": [
      "Epoch 3 | Training Loss: 0.3062\n"
     ]
    },
    {
     "name": "stderr",
     "output_type": "stream",
     "text": [
      "Evaluating: 100%|██████████| 8/8 [00:16<00:00,  2.05s/it]"
     ]
    },
    {
     "name": "stdout",
     "output_type": "stream",
     "text": [
      "Test Accuracy: 100.00%\n"
     ]
    },
    {
     "name": "stderr",
     "output_type": "stream",
     "text": [
      "\n"
     ]
    }
   ],
   "source": [
    "# 7. Training loop\n",
    "num_epochs = 3\n",
    "\n",
    "for epoch in range(num_epochs):\n",
    "    model.train()\n",
    "    total_train_loss = 0\n",
    "\n",
    "    for batch in tqdm(train_loader, desc=f\"Training Epoch {epoch+1}/{num_epochs}\"):\n",
    "        optimizer.zero_grad()\n",
    "\n",
    "        input_ids = batch['input_ids'].to(device)  # Move inputs to CPU\n",
    "        attention_mask = batch['attention_mask'].to(device)  # Move masks to CPU\n",
    "        labels = batch['label'].to(device)  # Move labels to CPU\n",
    "\n",
    "        outputs = model(input_ids=input_ids, attention_mask=attention_mask, labels=labels)\n",
    "        loss = outputs.loss\n",
    "        total_train_loss += loss.item()\n",
    "\n",
    "        loss.backward()\n",
    "        optimizer.step()\n",
    "\n",
    "    avg_train_loss = total_train_loss / len(train_loader)\n",
    "    print(f\"Epoch {epoch+1} | Training Loss: {avg_train_loss:.4f}\")\n",
    "\n",
    "# 8. Evaluation loop\n",
    "model.eval()\n",
    "correct = 0\n",
    "total = 0\n",
    "\n",
    "with torch.no_grad():\n",
    "    for batch in tqdm(test_loader, desc=\"Evaluating\"):\n",
    "        input_ids = batch['input_ids'].to(device)  # Move inputs to CPU\n",
    "        attention_mask = batch['attention_mask'].to(device)  # Move masks to CPU\n",
    "        labels = batch['label'].to(device)  # Move labels to CPU\n",
    "\n",
    "        outputs = model(input_ids=input_ids, attention_mask=attention_mask)\n",
    "        logits = outputs.logits\n",
    "        predictions = torch.argmax(F.softmax(logits, dim=1), dim=1)\n",
    "        correct += (predictions == labels).sum().item()\n",
    "        total += labels.size(0)\n",
    "\n",
    "accuracy = correct / total\n",
    "print(f\"Test Accuracy: {accuracy * 100:.2f}%\")"
   ]
  },
  {
   "cell_type": "code",
   "execution_count": 28,
   "metadata": {},
   "outputs": [
    {
     "name": "stdout",
     "output_type": "stream",
     "text": [
      "The review is classified as: Service-related\n"
     ]
    }
   ],
   "source": [
    "import torch\n",
    "from transformers import BertTokenizer\n",
    "\n",
    "# Initialize the tokenizer (make sure to use the same model as during training)\n",
    "tokenizer = BertTokenizer.from_pretrained('bert-base-uncased')\n",
    "\n",
    "def classify_review(review, model):\n",
    "    # Preprocess the review\n",
    "    inputs = tokenizer(review, return_tensors='pt', padding=True, truncation=True, max_length=512)\n",
    "    \n",
    "    # Move inputs to the specified device (CPU in this case)\n",
    "    input_ids = inputs['input_ids'].to(device)\n",
    "    attention_mask = inputs['attention_mask'].to(device)\n",
    "    \n",
    "    # Make predictions\n",
    "    model.eval()  # Set the model to evaluation mode\n",
    "    with torch.no_grad():\n",
    "        outputs = model(input_ids=input_ids, attention_mask=attention_mask)\n",
    "        logits = outputs.logits\n",
    "        predictions = torch.argmax(torch.softmax(logits, dim=1), dim=1)\n",
    "\n",
    "    # Convert prediction to category\n",
    "    predicted_category = predictions.item()  # Get the predicted class index\n",
    "    return predicted_category\n",
    "\n",
    "# Example usage\n",
    "new_review = \" Amount detucted from my account but the courses are not available in \"\"My learning\"\" section.\"  # Your review text\n",
    "predicted_category_index = classify_review(new_review, model)\n",
    "\n",
    "# Map index to category (assuming you have a list of categories)\n",
    "categories = ['Payment-related', 'Service-related', 'Product-related', 'Technical issues']\n",
    "predicted_category = categories[predicted_category_index]\n",
    "\n",
    "print(f\"The review is classified as: {predicted_category}\")\n"
   ]
  }
 ],
 "metadata": {
  "kernelspec": {
   "display_name": "Python 3",
   "language": "python",
   "name": "python3"
  },
  "language_info": {
   "codemirror_mode": {
    "name": "ipython",
    "version": 3
   },
   "file_extension": ".py",
   "mimetype": "text/x-python",
   "name": "python",
   "nbconvert_exporter": "python",
   "pygments_lexer": "ipython3",
   "version": "3.12.6"
  }
 },
 "nbformat": 4,
 "nbformat_minor": 2
}
